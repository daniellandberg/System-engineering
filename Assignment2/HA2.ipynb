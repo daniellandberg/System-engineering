{
  "nbformat": 4,
  "nbformat_minor": 0,
  "metadata": {
    "colab": {
      "name": "HA2.ipynb",
      "provenance": [],
      "collapsed_sections": []
    },
    "kernelspec": {
      "name": "python3",
      "display_name": "Python 3"
    }
  },
  "cells": [
    {
      "cell_type": "markdown",
      "metadata": {
        "id": "ZJwx6wqfEOfg"
      },
      "source": [
        "We need to check the four different conditions for the marginal allocation alorithm: \n",
        "\n",
        "    1) Objective functions are separable\n",
        "    2) Objective functions are integer-convex\n",
        "    3) One objective functions is increasing \n",
        "    4) The other one is decreasing\n",
        "We want to minimize f  = c's + qEBO(s)\n",
        "- c't is the increasing objective function\n",
        "- qEBO(s) is the decreasing objective function\n",
        "\n",
        "\n",
        "---\n",
        "step 0\n",
        "\n",
        "    Ri(si) = 1 - Po(s, EBO(0i)) \n",
        "    EBOi(si+1) = EBO(si) - Ri(si) \n",
        "    deltaf_divG(si) = Ri(si)/c(i)\n",
        "---\n",
        "step 1\n",
        "\n",
        "    Pick the largest value from deltaf_divG\n",
        "\n",
        "---\n",
        "Step 2\n",
        "\n",
        "    Cost Part\n",
        "    1) remove max value from deltaf_divG and set idx in deltaf_divG to zero and keep idx\n",
        "    2) Add cost of part idx mod 9\n",
        "    3) Save to matrix X\n",
        "    4) jump to step 1\n",
        "\n",
        "    Shortage part\n",
        "    1) Count the shortage for the parts which were broken from Cost Part\n",
        "    2) Sum up shortage for each new broken part (each row in X)\n",
        "\n",
        "\n",
        "\n",
        "\n",
        "\n",
        "\n",
        "\n",
        "\n"
      ]
    },
    {
      "cell_type": "code",
      "metadata": {
        "colab": {
          "base_uri": "https://localhost:8080/",
          "height": 569
        },
        "id": "da0xyipfEAZi",
        "outputId": "1ba5d378-1841-48e3-85b2-b30bb77bdf08"
      },
      "source": [
        "# Problem 1 \n",
        "\n",
        "# Imports\n",
        "import numpy as np\n",
        "from scipy.stats import poisson\n",
        "import matplotlib.pyplot as plt\n",
        "\n",
        "# initialize vars\n",
        "\n",
        "lam = np.array([50, 40, 45, 51, 25, 48, 60, 35, 15])/1000\n",
        "c = np.array([14, 19, 25, 15, 10, 45, 80, 33, 30])\n",
        "T = np.array([4, 7, 14, 5, 10, 18, 24, 8, 12])\n",
        "X = np.zeros(len(c))\n",
        "Xt = np.zeros(len(c)) # Dummy\n",
        "budget = 500\n",
        "cost = 0\n",
        "val = int(budget/c.min()) # We need to make the matrix in the size of the budget/cheapest part\n",
        "\n",
        "EBO = np.zeros(((val+1),len(X)))\n",
        "Ri = np.zeros((val,len(X)))\n",
        "delt = np.zeros((val,len(X)))\n",
        "\n",
        "# Step 0\n",
        "for i in range(len(c)):\n",
        "  EBO[0,i] = T[i]*lam[i] # the first row is just T*lambda\n",
        "  for s in range(val):\n",
        "    Ri[s,i] = 1-poisson.cdf((s), EBO[0,i]) # Palm --> poission distr \n",
        "    EBO[s+1,i] = EBO[s,i] - Ri[s,i] # EBO - R\n",
        "    delt[s,i] = (EBO[s,i]-EBO[s+1,i]) /c[i] # Shortage / cost\n",
        "# Step 1 & 2\n",
        "\n",
        "FlattenList = delt.flatten() # Flatten the matrix\n",
        "count = 0\n",
        "\n",
        "#Cost\n",
        "while cost < budget:\n",
        "  print(cost)\n",
        "  idx = np.argmax(FlattenList)   # idx of max value in flatten list\n",
        "  value = FlattenList[idx] # save max value\n",
        "  FlattenList[idx] = 0     # set value to zero so we can't pick it agian\n",
        "  cost += c[idx % len(c)]\n",
        "  X = np.vstack((X, Xt)) # We have X = [[0,0],[0,1]], Xt = [0,0] stack will make this: X = [[0,0],[0,1],[0,0]]\n",
        "  X[count+1] = X[count]\n",
        "  X[count+1][idx % len(c)] = X[count+1][idx % len(c)] + 1   # adding the 1 to the index of the part which is broken\n",
        "  count += 1\n",
        "Xplot = np.dot(X,c) # Broken parts times costs is the values we have optimized\n",
        "\n",
        "#Shortage\n",
        "ExpectedBackOrders = np.zeros(len(X))\n",
        "for i in range(len(X)):\n",
        "  for j in  range(len(c)):\n",
        "    idx = int(X[i,j]) \n",
        "    ExpectedBackOrders[i] += EBO[idx,j] # Summing up EBO from the Costs above\n",
        "\n",
        "# Plot\n",
        "plt.plot(Xplot, ExpectedBackOrders, linestyle='--', marker='o', color='b')\n",
        "plt.title('Marginal Allocation')\n",
        "plt.xlabel('Budget', fontsize=14)\n",
        "plt.ylabel('EBO', fontsize=14)\n"
      ],
      "execution_count": null,
      "outputs": [
        {
          "output_type": "stream",
          "text": [
            "0\n",
            "10\n",
            "35\n",
            "50\n",
            "64\n",
            "109\n",
            "128\n",
            "208\n",
            "241\n",
            "271\n",
            "296\n",
            "376\n",
            "421\n",
            "431\n"
          ],
          "name": "stdout"
        },
        {
          "output_type": "execute_result",
          "data": {
            "text/plain": [
              "Text(0, 0.5, 'EBO')"
            ]
          },
          "metadata": {
            "tags": []
          },
          "execution_count": 2
        },
        {
          "output_type": "display_data",
          "data": {
            "image/png": "[encoded data removed]",
            "text/plain": [
              "<Figure size 432x288 with 1 Axes>"
            ]
          },
          "metadata": {
            "tags": [],
            "needs_background": "light"
          }
        }
      ]
    },
    {
      "cell_type": "markdown",
      "metadata": {
        "id": "LQh5LYNn_pzI"
      },
      "source": [
        "Dynamic programming"
      ]
    },
    {
      "cell_type": "code",
      "metadata": {
        "colab": {
          "base_uri": "https://localhost:8080/",
          "height": 392
        },
        "id": "4MeI7vMj_uiO",
        "outputId": "a852f385-2c51-4a87-aaa3-807200034fd8"
      },
      "source": [
        "def rowCutter(row, fromm, to, LRUarray, Sol):\n",
        "  a = [0]\n",
        "  cut = np.split(LRUarray, [fromm, to])\n",
        "  cut = a.extend(cut[0].tolist())\n",
        "  j = 0\n",
        "  for i in range((len(c)-len(cut)),len(cut)):\n",
        "    Sol[row,i] = cut(j)\n",
        "    j += 1\n",
        "\n",
        "\n",
        "  print(cut)\n",
        "  return Sol\n",
        "\n",
        "\n",
        "def mini(SolN, idx):\n",
        "  for bud in range(budget+1):\n",
        "    SolN1 = np.zeros((int(LRU[bud,idx]+1),int(len(c)+1)))\n",
        "    for part in range(int(LRU[bud,idx]+1)):\n",
        "      LRUarray = SolN[int(bud-part*c[idx]), :]\n",
        "      print(LRUarray)\n",
        "      rowCutter(part, idx, len(c), LRUarray, SolN1)\n",
        "      b = np.split(A,[idx,len(c)])\n",
        "      print(idx)\n",
        "      print(b)\n",
        "      SolN1[part,idx:len(c)] = [part, LRUarray[0,idx:len(c)]]\n",
        "      SolN1[part,idx:len(c)] = [part, LRUarray[0,idx:len(c)]]\n",
        "      SolN1[part, (len(c)+1)] = EBO[part,idx] + LRUarray[(len(c)+1)]\n",
        "    \n",
        "  return SolN\n",
        "\n",
        "\n",
        "LRU = np.trunc(np.tile(np.arange(0,budget+1),len(c)).reshape(len(c),budget+1).T/c) \n",
        "Sol = np.zeros(((budget+1), (len(c)+1)))\n",
        "Sol[:,len(c)] = LRU[:,len(c)-1]\n",
        "\n",
        "for i in range(budget+1):\n",
        "  Sol[i,(len(c))] = EBO[int(Sol[i,len(c)])][len(c)-1]\n",
        "\n",
        "for backwards in range(len(c)-2,-1,-1): # backwards\n",
        "  Sol = mini(Sol, backwards)\n",
        "\"\"\"\n",
        "for j = 1:n-1\n",
        "    t17 = solutions;\n",
        "        for i=1:c_budget+1\n",
        "            parts = LRU(i,n-j);\n",
        "            sol_matrix = zeros(parts+1,n+1); \n",
        "            \n",
        "            for q=0:parts\n",
        "                subLRU = t17(i-q*c(n-j),:);\n",
        "                sol_matrix(q+1,n-j:n) = [q, subLRU(1,n-j+1:n)]; \n",
        "                sol_matrix(q+1,n+1)= EBO(q+1,n-j) + subLRU(n+1);\n",
        "            end\n",
        "            [~, I] = min(sol_matrix(:,n+1)); \n",
        "            solutions(i,:) = sol_matrix(I,:);\n",
        "        end  \n",
        "\"\"\""
      ],
      "execution_count": null,
      "outputs": [
        {
          "output_type": "stream",
          "text": [
            "[0.   0.   0.   0.   0.   0.   0.   0.   0.   0.18]\n"
          ],
          "name": "stdout"
        },
        {
          "output_type": "error",
          "ename": "TypeError",
          "evalue": "ignored",
          "traceback": [
            "\u001b[0;31m---------------------------------------------------------------------------\u001b[0m",
            "\u001b[0;31mTypeError\u001b[0m                                 Traceback (most recent call last)",
            "\u001b[0;32m<ipython-input-115-31c414028c1c>\u001b[0m in \u001b[0;36m<module>\u001b[0;34m()\u001b[0m\n\u001b[1;32m     40\u001b[0m \u001b[0;34m\u001b[0m\u001b[0m\n\u001b[1;32m     41\u001b[0m \u001b[0;32mfor\u001b[0m \u001b[0mbackwards\u001b[0m \u001b[0;32min\u001b[0m \u001b[0mrange\u001b[0m\u001b[0;34m(\u001b[0m\u001b[0mlen\u001b[0m\u001b[0;34m(\u001b[0m\u001b[0mc\u001b[0m\u001b[0;34m)\u001b[0m\u001b[0;34m-\u001b[0m\u001b[0;36m2\u001b[0m\u001b[0;34m,\u001b[0m\u001b[0;34m-\u001b[0m\u001b[0;36m1\u001b[0m\u001b[0;34m,\u001b[0m\u001b[0;34m-\u001b[0m\u001b[0;36m1\u001b[0m\u001b[0;34m)\u001b[0m\u001b[0;34m:\u001b[0m \u001b[0;31m# backwards\u001b[0m\u001b[0;34m\u001b[0m\u001b[0;34m\u001b[0m\u001b[0m\n\u001b[0;32m---> 42\u001b[0;31m   \u001b[0mSol\u001b[0m \u001b[0;34m=\u001b[0m \u001b[0mmini\u001b[0m\u001b[0;34m(\u001b[0m\u001b[0mSol\u001b[0m\u001b[0;34m,\u001b[0m \u001b[0mbackwards\u001b[0m\u001b[0;34m)\u001b[0m\u001b[0;34m\u001b[0m\u001b[0;34m\u001b[0m\u001b[0m\n\u001b[0m\u001b[1;32m     43\u001b[0m \"\"\"\n\u001b[1;32m     44\u001b[0m \u001b[0;32mfor\u001b[0m \u001b[0mj\u001b[0m \u001b[0;34m=\u001b[0m \u001b[0;36m1\u001b[0m\u001b[0;34m:\u001b[0m\u001b[0mn\u001b[0m\u001b[0;34m-\u001b[0m\u001b[0;36m1\u001b[0m\u001b[0;34m\u001b[0m\u001b[0;34m\u001b[0m\u001b[0m\n",
            "\u001b[0;32m<ipython-input-115-31c414028c1c>\u001b[0m in \u001b[0;36mmini\u001b[0;34m(SolN, idx)\u001b[0m\n\u001b[1;32m     21\u001b[0m       \u001b[0mLRUarray\u001b[0m \u001b[0;34m=\u001b[0m \u001b[0mSolN\u001b[0m\u001b[0;34m[\u001b[0m\u001b[0mint\u001b[0m\u001b[0;34m(\u001b[0m\u001b[0mbud\u001b[0m\u001b[0;34m-\u001b[0m\u001b[0mpart\u001b[0m\u001b[0;34m*\u001b[0m\u001b[0mc\u001b[0m\u001b[0;34m[\u001b[0m\u001b[0midx\u001b[0m\u001b[0;34m]\u001b[0m\u001b[0;34m)\u001b[0m\u001b[0;34m,\u001b[0m \u001b[0;34m:\u001b[0m\u001b[0;34m]\u001b[0m\u001b[0;34m\u001b[0m\u001b[0;34m\u001b[0m\u001b[0m\n\u001b[1;32m     22\u001b[0m       \u001b[0mprint\u001b[0m\u001b[0;34m(\u001b[0m\u001b[0mLRUarray\u001b[0m\u001b[0;34m)\u001b[0m\u001b[0;34m\u001b[0m\u001b[0;34m\u001b[0m\u001b[0m\n\u001b[0;32m---> 23\u001b[0;31m       \u001b[0mrowCutter\u001b[0m\u001b[0;34m(\u001b[0m\u001b[0mpart\u001b[0m\u001b[0;34m,\u001b[0m \u001b[0midx\u001b[0m\u001b[0;34m,\u001b[0m \u001b[0mlen\u001b[0m\u001b[0;34m(\u001b[0m\u001b[0mc\u001b[0m\u001b[0;34m)\u001b[0m\u001b[0;34m,\u001b[0m \u001b[0mLRUarray\u001b[0m\u001b[0;34m,\u001b[0m \u001b[0mSolN1\u001b[0m\u001b[0;34m)\u001b[0m\u001b[0;34m\u001b[0m\u001b[0;34m\u001b[0m\u001b[0m\n\u001b[0m\u001b[1;32m     24\u001b[0m       \u001b[0mb\u001b[0m \u001b[0;34m=\u001b[0m \u001b[0mnp\u001b[0m\u001b[0;34m.\u001b[0m\u001b[0msplit\u001b[0m\u001b[0;34m(\u001b[0m\u001b[0mA\u001b[0m\u001b[0;34m,\u001b[0m\u001b[0;34m[\u001b[0m\u001b[0midx\u001b[0m\u001b[0;34m,\u001b[0m\u001b[0mlen\u001b[0m\u001b[0;34m(\u001b[0m\u001b[0mc\u001b[0m\u001b[0;34m)\u001b[0m\u001b[0;34m]\u001b[0m\u001b[0;34m)\u001b[0m\u001b[0;34m\u001b[0m\u001b[0;34m\u001b[0m\u001b[0m\n\u001b[1;32m     25\u001b[0m       \u001b[0mprint\u001b[0m\u001b[0;34m(\u001b[0m\u001b[0midx\u001b[0m\u001b[0;34m)\u001b[0m\u001b[0;34m\u001b[0m\u001b[0;34m\u001b[0m\u001b[0m\n",
            "\u001b[0;32m<ipython-input-115-31c414028c1c>\u001b[0m in \u001b[0;36mrowCutter\u001b[0;34m(row, fromm, to, LRUarray, Sol)\u001b[0m\n\u001b[1;32m      3\u001b[0m   \u001b[0mcut\u001b[0m \u001b[0;34m=\u001b[0m \u001b[0mnp\u001b[0m\u001b[0;34m.\u001b[0m\u001b[0msplit\u001b[0m\u001b[0;34m(\u001b[0m\u001b[0mLRUarray\u001b[0m\u001b[0;34m,\u001b[0m \u001b[0;34m[\u001b[0m\u001b[0mfromm\u001b[0m\u001b[0;34m,\u001b[0m \u001b[0mto\u001b[0m\u001b[0;34m]\u001b[0m\u001b[0;34m)\u001b[0m\u001b[0;34m\u001b[0m\u001b[0;34m\u001b[0m\u001b[0m\n\u001b[1;32m      4\u001b[0m   \u001b[0mcut\u001b[0m \u001b[0;34m=\u001b[0m \u001b[0ma\u001b[0m\u001b[0;34m.\u001b[0m\u001b[0mextend\u001b[0m\u001b[0;34m(\u001b[0m\u001b[0mcut\u001b[0m\u001b[0;34m[\u001b[0m\u001b[0;36m0\u001b[0m\u001b[0;34m]\u001b[0m\u001b[0;34m.\u001b[0m\u001b[0mtolist\u001b[0m\u001b[0;34m(\u001b[0m\u001b[0;34m)\u001b[0m\u001b[0;34m)\u001b[0m\u001b[0;34m\u001b[0m\u001b[0;34m\u001b[0m\u001b[0m\n\u001b[0;32m----> 5\u001b[0;31m   \u001b[0;32mif\u001b[0m \u001b[0mlen\u001b[0m\u001b[0;34m(\u001b[0m\u001b[0mcut\u001b[0m\u001b[0;34m)\u001b[0m\u001b[0;34m:\u001b[0m\u001b[0;34m\u001b[0m\u001b[0;34m\u001b[0m\u001b[0m\n\u001b[0m\u001b[1;32m      6\u001b[0m     \u001b[0maa\u001b[0m \u001b[0;34m=\u001b[0m \u001b[0mlen\u001b[0m\u001b[0;34m(\u001b[0m\u001b[0mcut\u001b[0m\u001b[0;34m)\u001b[0m\u001b[0;34m\u001b[0m\u001b[0;34m\u001b[0m\u001b[0m\n\u001b[1;32m      7\u001b[0m   \u001b[0mj\u001b[0m \u001b[0;34m=\u001b[0m \u001b[0;36m0\u001b[0m\u001b[0;34m\u001b[0m\u001b[0;34m\u001b[0m\u001b[0m\n",
            "\u001b[0;31mTypeError\u001b[0m: object of type 'NoneType' has no len()"
          ]
        }
      ]
    },
    {
      "cell_type": "code",
      "metadata": {
        "id": "w6_iyyLJlmBB"
      },
      "source": [
        ""
      ],
      "execution_count": null,
      "outputs": []
    }
  ]
}